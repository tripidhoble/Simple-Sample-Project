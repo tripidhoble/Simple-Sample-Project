{
 "cells": [
  {
   "cell_type": "markdown",
   "metadata": {},
   "source": [
    "# Task 1:"
   ]
  },
  {
   "cell_type": "raw",
   "metadata": {},
   "source": [
    "Given DataFRame:\n",
    "  letter  value \n",
    "0      A      0 \n",
    "1      A      1 \n",
    "2      B      2 \n",
    "3      B      3 \n",
    "4      B      4 \n",
    "5      C      5 \n",
    "6      C      6 \n",
    "7      C      7 \n",
    "8      C      8 \n",
    "\n",
    "\n",
    "Expected output:\n",
    "\n",
    "Pivot_Values\tvalue 0\tvalue 1\tvalue 2\tvalue 3\n",
    "letter\t\t\t\t\n",
    "A\t0.0\t1.0\tNaN\tNaN\n",
    "B\t2.0\t3.0\t4.0\tNaN\n",
    "C\t5.0\t6.0\t7.0\t8.0"
   ]
  },
  {
   "cell_type": "code",
   "execution_count": 3,
   "metadata": {},
   "outputs": [
    {
     "name": "stdout",
     "output_type": "stream",
     "text": [
      "  letter  value Pivot_Values\n",
      "0      A      0      value 0\n",
      "1      A      1      value 1\n",
      "2      B      2      value 0\n",
      "3      B      3      value 1\n",
      "4      B      4      value 2\n",
      "5      C      5      value 0\n",
      "6      C      6      value 1\n",
      "7      C      7      value 2\n",
      "8      C      8      value 3\n"
     ]
    },
    {
     "data": {
      "text/html": [
       "<div>\n",
       "<style scoped>\n",
       "    .dataframe tbody tr th:only-of-type {\n",
       "        vertical-align: middle;\n",
       "    }\n",
       "\n",
       "    .dataframe tbody tr th {\n",
       "        vertical-align: top;\n",
       "    }\n",
       "\n",
       "    .dataframe thead th {\n",
       "        text-align: right;\n",
       "    }\n",
       "</style>\n",
       "<table border=\"1\" class=\"dataframe\">\n",
       "  <thead>\n",
       "    <tr style=\"text-align: right;\">\n",
       "      <th>Pivot_Values</th>\n",
       "      <th>value 0</th>\n",
       "      <th>value 1</th>\n",
       "      <th>value 2</th>\n",
       "      <th>value 3</th>\n",
       "    </tr>\n",
       "    <tr>\n",
       "      <th>letter</th>\n",
       "      <th></th>\n",
       "      <th></th>\n",
       "      <th></th>\n",
       "      <th></th>\n",
       "    </tr>\n",
       "  </thead>\n",
       "  <tbody>\n",
       "    <tr>\n",
       "      <th>A</th>\n",
       "      <td>0.0</td>\n",
       "      <td>1.0</td>\n",
       "      <td>NaN</td>\n",
       "      <td>NaN</td>\n",
       "    </tr>\n",
       "    <tr>\n",
       "      <th>B</th>\n",
       "      <td>2.0</td>\n",
       "      <td>3.0</td>\n",
       "      <td>4.0</td>\n",
       "      <td>NaN</td>\n",
       "    </tr>\n",
       "    <tr>\n",
       "      <th>C</th>\n",
       "      <td>5.0</td>\n",
       "      <td>6.0</td>\n",
       "      <td>7.0</td>\n",
       "      <td>8.0</td>\n",
       "    </tr>\n",
       "  </tbody>\n",
       "</table>\n",
       "</div>"
      ],
      "text/plain": [
       "Pivot_Values  value 0  value 1  value 2  value 3\n",
       "letter                                          \n",
       "A                 0.0      1.0      NaN      NaN\n",
       "B                 2.0      3.0      4.0      NaN\n",
       "C                 5.0      6.0      7.0      8.0"
      ]
     },
     "execution_count": 3,
     "metadata": {},
     "output_type": "execute_result"
    }
   ],
   "source": [
    "import pandas as pd\n",
    "df = pd.DataFrame({\"letter\":['A','A','B','B','B','C','C','C','C'],\"value\":[0,1,2,3,4,5,6,7,8]})\n",
    "df['Pivot_Values'] = ['value 0','value 1','value 0','value 1','value 2','value 0','value 1','value 2','value 3']\n",
    "print(df)\n",
    "table = pd.pivot_table(df, values='value', index=['letter'], columns=['Pivot_Values'])\n",
    "table"
   ]
  },
  {
   "cell_type": "markdown",
   "metadata": {},
   "source": [
    "# Task 2:"
   ]
  },
  {
   "cell_type": "code",
   "execution_count": 35,
   "metadata": {
    "scrolled": true
   },
   "outputs": [
    {
     "name": "stdout",
     "output_type": "stream",
     "text": [
      "    User                                 ID_Proof_Submitted\n",
      "0  user1             $$panCard$$aadharCard$$GST_Certificate\n",
      "1  user2                   $$panCardsgiven$$GST_certificate\n",
      "2  user3  $$panCard$$aadhar_Cards_provided$$GST_Certific...\n",
      "3  user4  $$panCard$$aadharCard$$GST_Certificate$$HelloW...\n",
      "4  user5  $$aadharCard is given by the user$$GST_Certifi...\n",
      "5  user6              aadharCard$$GST_Certificate$$pan_card\n"
     ]
    }
   ],
   "source": [
    "import pandas as pd\n",
    "\n",
    "df = pd.read_csv(r\"trd.csv\")\n",
    "print(df)"
   ]
  },
  {
   "cell_type": "code",
   "execution_count": 54,
   "metadata": {},
   "outputs": [
    {
     "name": "stdout",
     "output_type": "stream",
     "text": [
      "    User                                 ID_Proof_Submitted  is_valid\n",
      "0  user1             $$panCard$$aadharCard$$GST_Certificate         1\n",
      "1  user2                   $$panCardsgiven$$GST_certificate         0\n",
      "2  user3  $$panCard$$aadhar_Cards_provided$$GST_Certific...         1\n",
      "3  user4  $$panCard$$aadharCard$$GST_Certificate$$HelloW...         1\n",
      "4  user5  $$aadharCard is given by the user$$GST_Certifi...         0\n",
      "5  user6              aadharCard$$GST_Certificate$$pan_card         1\n"
     ]
    }
   ],
   "source": [
    "df['is_valid'] = ((df['ID_Proof_Submitted'].str.contains('aadhar', case=False)) & (df['ID_Proof_Submitted'].str.contains('GST_certificate', case=False)) & (df['ID_Proof_Submitted'].str.contains('pan', case=False))).astype(int)\n",
    "print(df)"
   ]
  },
  {
   "cell_type": "code",
   "execution_count": null,
   "metadata": {},
   "outputs": [],
   "source": []
  }
 ],
 "metadata": {
  "kernelspec": {
   "display_name": "Python 3",
   "language": "python",
   "name": "python3"
  },
  "language_info": {
   "codemirror_mode": {
    "name": "ipython",
    "version": 3
   },
   "file_extension": ".py",
   "mimetype": "text/x-python",
   "name": "python",
   "nbconvert_exporter": "python",
   "pygments_lexer": "ipython3",
   "version": "3.6.4"
  }
 },
 "nbformat": 4,
 "nbformat_minor": 2
}
