{
  "nbformat": 4,
  "nbformat_minor": 0,
  "metadata": {
    "colab": {
      "name": "Mini Challenges in Python.ipynb",
      "version": "0.3.2",
      "provenance": [],
      "collapsed_sections": []
    },
    "kernelspec": {
      "name": "python3",
      "display_name": "Python 3"
    }
  },
  "cells": [
    {
      "cell_type": "markdown",
      "metadata": {
        "id": "gXLstySgVInb",
        "colab_type": "text"
      },
      "source": [
        "**1.Make a Python program to calculate the number of even divisors of any number. Find the answer for the number 102. What is the result?**"
      ]
    },
    {
      "cell_type": "code",
      "metadata": {
        "id": "ejR3uEvkJcmg",
        "colab_type": "code",
        "outputId": "d1753447-6679-4706-97c8-c9b5e1d905ec",
        "colab": {
          "base_uri": "https://localhost:8080/",
          "height": 35
        }
      },
      "source": [
        "def devisors(num):\n",
        "  count = 0\n",
        "  for i in range(2,num+1,2):\n",
        "    if num%i == 0:\n",
        "       count += 1\n",
        "  return count\n",
        "\n",
        "print(devisors(102))"
      ],
      "execution_count": 0,
      "outputs": [
        {
          "output_type": "stream",
          "text": [
            "4\n"
          ],
          "name": "stdout"
        }
      ]
    },
    {
      "cell_type": "markdown",
      "metadata": {
        "id": "aGya648AU-7_",
        "colab_type": "text"
      },
      "source": [
        "**3. You are given an array of “n” non-negative integers x1, x2, …, xn and its your job to find out whether its possible to construct a new integer using all the digits of these numbers such that this new number is divisible by 3. Write a Python program for the same and find out if you have the array [20,30,40,50,60,70] produces a number which is divisible by 3.**"
      ]
    },
    {
      "cell_type": "code",
      "metadata": {
        "id": "LPLrt6frJ5so",
        "colab_type": "code",
        "outputId": "3066e5e6-a3ef-40fc-93ea-e3aa2c9d175e",
        "colab": {
          "base_uri": "https://localhost:8080/",
          "height": 52
        }
      },
      "source": [
        "def get_digits(arr):\n",
        "  digits = []\n",
        "  for a in arr:\n",
        "    digits.extend([int(d) for d in str(a)])\n",
        "    digits = list(set(digits))\n",
        "  print(digits)\n",
        "  return digits\n",
        "\n",
        "def multiple_3(arr):\n",
        "  digits = get_digits(arr)\n",
        "  for i in range(1,10000000):\n",
        "    if(i%3==0):\n",
        "      num_digits = [int(d) for d in str(i)]\n",
        "      #print(\"digits: {}, num_digits:{}\".format(digits.sort(),num_digits.sort()))\n",
        "      digits.sort()\n",
        "      num_digits.sort()\n",
        "      if(digits == num_digits):\n",
        "        return i\n",
        "  print(\"Number not found\")\n",
        "  \n",
        "      \n",
        "multiple_3([20,30,40,50,60,70])"
      ],
      "execution_count": 0,
      "outputs": [
        {
          "output_type": "stream",
          "text": [
            "[0, 2, 3, 4, 5, 6, 7]\n"
          ],
          "name": "stdout"
        },
        {
          "output_type": "execute_result",
          "data": {
            "text/plain": [
              "2034567"
            ]
          },
          "metadata": {
            "tags": []
          },
          "execution_count": 45
        }
      ]
    },
    {
      "cell_type": "code",
      "metadata": {
        "id": "QiKAq_oZOpSl",
        "colab_type": "code",
        "outputId": "5e6a42c9-38f7-41a4-ee5f-2061a3c166aa",
        "colab": {
          "base_uri": "https://localhost:8080/",
          "height": 35
        }
      },
      "source": [
        "2034567%3"
      ],
      "execution_count": 0,
      "outputs": [
        {
          "output_type": "execute_result",
          "data": {
            "text/plain": [
              "0"
            ]
          },
          "metadata": {
            "tags": []
          },
          "execution_count": 46
        }
      ]
    },
    {
      "cell_type": "markdown",
      "metadata": {
        "id": "MUt4PvwEVb2H",
        "colab_type": "text"
      },
      "source": [
        "**4.You are given an integer N. Determine if it belongs to Fibonacci series with the help of Python program. Is 298972 a Fibonacci number?**"
      ]
    },
    {
      "cell_type": "code",
      "metadata": {
        "id": "NX9rXGJXUywj",
        "colab_type": "code",
        "outputId": "30ede264-9aba-464d-e57f-12aa9c3fd80b",
        "colab": {
          "base_uri": "https://localhost:8080/",
          "height": 52
        }
      },
      "source": [
        "def check_fibbonacci(Num):\n",
        "  a = 0\n",
        "  b = 1\n",
        "  \n",
        "  \n",
        "  for i in range(Num+1):\n",
        "    c = a + b\n",
        "    a = b\n",
        "    b = c\n",
        "    if(c == Num):\n",
        "      print(\"Num is Fibonacci\")\n",
        "      return Num\n",
        "  print(\"Num is NOT Fibnoacci\")\n",
        "  return 0\n",
        " \n",
        "check_fibbonacci(298972)\n",
        "    "
      ],
      "execution_count": 0,
      "outputs": [
        {
          "output_type": "stream",
          "text": [
            "Num is NOT Fibnoacci\n"
          ],
          "name": "stdout"
        },
        {
          "output_type": "execute_result",
          "data": {
            "text/plain": [
              "0"
            ]
          },
          "metadata": {
            "tags": []
          },
          "execution_count": 121
        }
      ]
    },
    {
      "cell_type": "markdown",
      "metadata": {
        "id": "0gjPbqrtXDPB",
        "colab_type": "text"
      },
      "source": [
        "**5.You are given a positive integer N as input. First find the set of all possible divisors for this integer N. Among all the divisors find the divisor for which the sum of digits is the highest. In case there is a tie with the sum, select the divisor with the lower initial value. For ex: if you have two divisors 31 and 13 which gives the same sum of digits 4, you will select 13. Write a Python program to code this up and which of the following is the result with N=324**"
      ]
    },
    {
      "cell_type": "code",
      "metadata": {
        "id": "dJ6I5bOMWY3V",
        "colab_type": "code",
        "outputId": "9b089515-f8b2-4a1f-928c-93b164cdb971",
        "colab": {
          "base_uri": "https://localhost:8080/",
          "height": 69
        }
      },
      "source": [
        "def select_divisor(Num):\n",
        "  divisors = []\n",
        "  sum_divisors = []\n",
        "  for i in range(1,Num):\n",
        "    if Num%i == 0:\n",
        "      divisors.append(i)\n",
        "      \n",
        "  for element in divisors:\n",
        "    digits = [int(d) for d in str(element)]\n",
        "    sum1 = sum(digits)\n",
        "    sum_divisors.append(sum1)\n",
        "  \n",
        "  print(\"divisors: \",divisors)\n",
        "  print(\"sum_divisors\",sum_divisors)  \n",
        "    \n",
        "  for i in range(len(divisors)):\n",
        "    highest_sum = max(sum_divisors)\n",
        "    highest_sum_index = sum_divisors.index(highest_sum)\n",
        "    second_highest_sum = max(sum_divisors[highest_sum_index:-1])\n",
        "    second_highest_sum_index = sum_divisors.index(second_highest_sum)   \n",
        "    \n",
        "    if highest_sum == second_highest_sum:\n",
        "      if((divisors[highest_sum_index]) > (divisors[second_highest_sum_index])):\n",
        "        return divisors[second_highest_sum_index]\n",
        "    return divisors[highest_sum_index]\n",
        "                             \n",
        "     \n",
        "      \n",
        "select_divisor(324) \n",
        "      "
      ],
      "execution_count": 0,
      "outputs": [
        {
          "output_type": "stream",
          "text": [
            "divisors:  [1, 2, 3, 4, 6, 9, 12, 18, 27, 36, 54, 81, 108, 162]\n",
            "sum_divisors [1, 2, 3, 4, 6, 9, 3, 9, 9, 9, 9, 9, 9, 9]\n"
          ],
          "name": "stdout"
        },
        {
          "output_type": "execute_result",
          "data": {
            "text/plain": [
              "9"
            ]
          },
          "metadata": {
            "tags": []
          },
          "execution_count": 1
        }
      ]
    },
    {
      "cell_type": "markdown",
      "metadata": {
        "id": "D7kzm3amvdgR",
        "colab_type": "text"
      },
      "source": [
        "**22.Let N be the greatest number that will divide 1305, 4665 and 6905, leaving the same remainder in each case. Then sum of the digits in N is:**"
      ]
    },
    {
      "cell_type": "code",
      "metadata": {
        "id": "5uiLtnSabWHx",
        "colab_type": "code",
        "outputId": "cbeb8ba5-3d50-49c6-9aae-903f56c2fbcd",
        "colab": {
          "base_uri": "https://localhost:8080/",
          "height": 52
        }
      },
      "source": [
        "def greates_divisor(num):\n",
        "  for i in range(max(num),1,-1):\n",
        "#     print(i)\n",
        "    if (num[0]%i == num[1]%i == num[2]%i):\n",
        "      print(i)\n",
        "      return sum([int(d) for d in str(i)]) \n",
        "    \n",
        "  return 0\n",
        "    \n",
        "  \n",
        "greates_divisor([1305,4665,6905])\n"
      ],
      "execution_count": 0,
      "outputs": [
        {
          "output_type": "stream",
          "text": [
            "1120\n"
          ],
          "name": "stdout"
        },
        {
          "output_type": "execute_result",
          "data": {
            "text/plain": [
              "4"
            ]
          },
          "metadata": {
            "tags": []
          },
          "execution_count": 2
        }
      ]
    },
    {
      "cell_type": "code",
      "metadata": {
        "id": "8K9Du2XQw9YI",
        "colab_type": "code",
        "colab": {}
      },
      "source": [
        ""
      ],
      "execution_count": 0,
      "outputs": []
    }
  ]
}